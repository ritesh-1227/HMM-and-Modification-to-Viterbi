{
 "cells": [
  {
   "cell_type": "markdown",
   "metadata": {},
   "source": [
    "## POS tagging using modified Viterbi"
   ]
  },
  {
   "cell_type": "markdown",
   "metadata": {},
   "source": [
    "### Data Preparation"
   ]
  },
  {
   "cell_type": "code",
   "execution_count": 1,
   "metadata": {},
   "outputs": [],
   "source": [
    "#Importing libraries\n",
    "\n",
    "import nltk, re\n",
    "import numpy as np\n",
    "import pandas as pd\n",
    "import requests\n",
    "import matplotlib.pyplot as plt\n",
    "import seaborn as sns\n",
    "import random\n",
    "from sklearn.model_selection import train_test_split\n",
    "from nltk.tokenize import word_tokenize"
   ]
  },
  {
   "cell_type": "code",
   "execution_count": 2,
   "metadata": {},
   "outputs": [],
   "source": [
    "# reading the Treebank tagged sentences\n",
    "nltk_data = list(nltk.corpus.treebank.tagged_sents(tagset='universal'))"
   ]
  },
  {
   "cell_type": "code",
   "execution_count": 3,
   "metadata": {},
   "outputs": [
    {
     "data": {
      "text/plain": [
       "[[('Pierre', 'NOUN'),\n",
       "  ('Vinken', 'NOUN'),\n",
       "  (',', '.'),\n",
       "  ('61', 'NUM'),\n",
       "  ('years', 'NOUN'),\n",
       "  ('old', 'ADJ'),\n",
       "  (',', '.'),\n",
       "  ('will', 'VERB'),\n",
       "  ('join', 'VERB'),\n",
       "  ('the', 'DET'),\n",
       "  ('board', 'NOUN'),\n",
       "  ('as', 'ADP'),\n",
       "  ('a', 'DET'),\n",
       "  ('nonexecutive', 'ADJ'),\n",
       "  ('director', 'NOUN'),\n",
       "  ('Nov.', 'NOUN'),\n",
       "  ('29', 'NUM'),\n",
       "  ('.', '.')]]"
      ]
     },
     "execution_count": 3,
     "metadata": {},
     "output_type": "execute_result"
    }
   ],
   "source": [
    "nltk_data[:1]"
   ]
  },
  {
   "cell_type": "code",
   "execution_count": 4,
   "metadata": {},
   "outputs": [
    {
     "name": "stdout",
     "output_type": "stream",
     "text": [
      "Training Set Length : 3718\n",
      "Training Set Length : 196\n",
      "==================================================================================================================================================================================\n",
      "Training Data sample :\n",
      "\n",
      "[[(\"''\", '.'), ('He', 'PRON'), ('declined', 'VERB'), ('*-2', 'X'), ('to', 'PRT'), ('say', 'VERB'), (',', '.'), ('however', 'ADV'), (',', '.'), ('how', 'ADV'), ('much', 'ADJ'), ('Sea', 'NOUN'), ('Containers', 'NOUN'), ('might', 'VERB'), ('raise', 'VERB'), ('its', 'PRON'), ('price', 'NOUN'), ('*T*-1', 'X'), ('.', '.')], [('Freeport-McMoRan', 'NOUN'), (',', '.'), ('a', 'DET'), ('New', 'NOUN'), ('Orleans-based', 'ADJ'), ('diversified', 'ADJ'), ('energy', 'NOUN'), ('conglomerate', 'NOUN'), (',', '.'), ('said', 'VERB'), ('0', 'X'), ('the', 'DET'), ('partnership', 'NOUN'), ('will', 'VERB'), ('exchange', 'VERB'), ('its', 'PRON'), ('assets', 'NOUN'), ('for', 'ADP'), ('common', 'ADJ'), ('shares', 'NOUN'), ('of', 'ADP'), ('a', 'DET'), ('yet-to-be-formed', 'ADJ'), ('entity', 'NOUN'), ('.', '.')], [('IBM', 'NOUN'), (',', '.'), ('the', 'DET'), ('giant', 'ADJ'), ('computer', 'NOUN'), ('maker', 'NOUN'), (',', '.'), ('offered', 'VERB'), ('$', '.'), ('750', 'NUM'), ('million', 'NUM'), ('*U*', 'X'), ('of', 'ADP'), ('non-callable', 'ADJ'), ('30-year', 'ADJ'), ('debentures', 'NOUN'), ('priced', 'VERB'), ('*', 'X'), ('*-1', 'X'), ('to', 'PRT'), ('yield', 'VERB'), ('8.47', 'NUM'), ('%', 'NOUN'), (',', '.'), ('or', 'CONJ'), ('about', 'ADP'), ('1\\\\/2', 'NUM'), ('percentage', 'NOUN'), ('point', 'NOUN'), ('higher', 'ADJ'), ('than', 'ADP'), ('the', 'DET'), ('yield', 'NOUN'), ('on', 'ADP'), ('30-year', 'ADJ'), ('Treasury', 'NOUN'), ('bonds', 'NOUN'), ('.', '.')], [('The', 'DET'), ('new', 'ADJ'), ('securities', 'NOUN'), (',', '.'), ('part', 'NOUN'), ('of', 'ADP'), ('the', 'DET'), ('federal', 'ADJ'), ('government', 'NOUN'), (\"'s\", 'PRT'), ('regular', 'ADJ'), ('quarterly', 'ADJ'), ('refunding', 'VERB'), (',', '.'), ('will', 'VERB'), ('consist', 'VERB'), ('of', 'ADP'), (':', '.')], [('The', 'DET'), ('prospective', 'ADJ'), ('buyers', 'NOUN'), ('included', 'VERB'), ('investor', 'NOUN'), ('Marvin', 'NOUN'), ('Davis', 'NOUN'), ('and', 'CONJ'), ('the', 'DET'), ('Toronto', 'NOUN'), ('Sun', 'NOUN'), ('.', '.')], [('``', '.'), ('We', 'PRON'), ('do', 'VERB'), (\"n't\", 'ADV'), ('spend', 'VERB'), ('much', 'ADJ'), ('on', 'ADP'), ('print', 'NOUN'), ('advertising', 'NOUN'), (',', '.'), (\"''\", '.'), ('she', 'PRON'), ('says', 'VERB'), ('*T*-1', 'X'), ('.', '.')], [('A', 'DET'), ('spokesman', 'NOUN'), ('for', 'ADP'), ('the', 'DET'), ('Stamford', 'NOUN'), (',', '.'), ('Conn.based', 'ADJ'), ('company', 'NOUN'), ('said', 'VERB'), ('0', 'X'), ('operations', 'NOUN'), ('had', 'VERB'), ('a', 'DET'), ('loss', 'NOUN'), ('of', 'ADP'), ('$', '.'), ('5.5', 'NUM'), ('million', 'NUM'), ('*U*', 'X'), ('for', 'ADP'), ('the', 'DET'), ('quarter', 'NOUN'), (';', '.'), ('in', 'ADP'), ('addition', 'NOUN'), (',', '.'), ('the', 'DET'), ('loss', 'NOUN'), ('was', 'VERB'), ('magnified', 'VERB'), ('*-1', 'X'), ('by', 'ADP'), ('nonrecurring', 'VERB'), ('charges', 'NOUN'), ('totaling', 'VERB'), ('$', '.'), ('23.5', 'NUM'), ('million', 'NUM'), ('*U*', 'X'), ('and', 'CONJ'), ('$', '.'), ('8.2', 'NUM'), ('million', 'NUM'), ('*U*', 'X'), ('in', 'ADP'), ('asset-valuation', 'NOUN'), ('adjustments', 'NOUN'), ('that', 'ADP'), ('he', 'PRON'), ('described', 'VERB'), ('*T*-2', 'X'), ('as', 'ADP'), ('``', '.'), ('unusual', 'ADJ'), ('.', '.'), (\"''\", '.')], [('The', 'DET'), ('company', 'NOUN'), ('added', 'VERB'), ('that', 'ADP'), ('it', 'PRON'), ('has', 'VERB'), ('filed', 'VERB'), ('patent', 'NOUN'), ('applications', 'NOUN'), ('``', '.'), ('on', 'ADP'), ('a', 'DET'), ('large', 'ADJ'), ('number', 'NOUN'), ('of', 'ADP'), ('different', 'ADJ'), ('BMP', 'NOUN'), ('proteins', 'NOUN'), (\"''\", '.'), ('and', 'CONJ'), ('the', 'DET'), ('patent', 'NOUN'), ('on', 'ADP'), ('BMP-1', 'NOUN'), ('is', 'VERB'), ('the', 'DET'), ('first', 'ADJ'), ('0', 'X'), ('it', 'PRON'), ('has', 'VERB'), ('received', 'VERB'), ('*T*-1', 'X'), ('.', '.')], [('His', 'PRON'), ('appointment', 'NOUN'), ('to', 'PRT'), ('that', 'DET'), ('post', 'NOUN'), (',', '.'), ('which', 'DET'), ('*T*-1', 'X'), ('has', 'VERB'), ('senior', 'ADJ'), ('administrative', 'ADJ'), (',', '.'), ('staff', 'NOUN'), ('and', 'CONJ'), ('policy', 'NOUN'), ('responsibilities', 'NOUN'), (',', '.'), ('followed', 'VERB'), ('a', 'DET'), ('several-year', 'ADJ'), ('tenure', 'NOUN'), ('as', 'ADP'), ('Reuters', 'NOUN'), (\"'s\", 'PRT'), ('editor', 'NOUN'), ('in', 'ADP'), ('chief', 'NOUN'), ('.', '.')], [('While', 'ADP'), ('Vichy', 'NOUN'), ('collaborated', 'VERB'), ('with', 'ADP'), ('the', 'DET'), ('Germans', 'NOUN'), ('during', 'ADP'), ('World', 'NOUN'), ('War', 'NOUN'), ('II', 'NOUN'), ('in', 'ADP'), ('the', 'DET'), ('deaths', 'NOUN'), ('of', 'ADP'), ('thousands', 'NOUN'), ('of', 'ADP'), ('Resistance', 'NOUN'), ('fighters', 'NOUN'), ('and', 'CONJ'), ('Jews', 'NOUN'), (',', '.'), ('its', 'PRON'), ('officials', 'NOUN'), ('needed', 'VERB'), ('a', 'DET'), ('diversionary', 'ADJ'), ('symbolic', 'ADJ'), ('traitor', 'NOUN'), ('.', '.')]]\n"
     ]
    }
   ],
   "source": [
    "# Splitting into train and test\n",
    "random.seed(42)\n",
    "train_set, test_set = train_test_split(nltk_data, test_size=0.05)\n",
    "\n",
    "print(\"Training Set Length :\", len(train_set))\n",
    "print(\"Training Set Length :\", len(test_set))\n",
    "print(\"==\" * 50)\n",
    "print(\"Training Data sample :\\n\")\n",
    "print(train_set[:10])"
   ]
  },
  {
   "cell_type": "code",
   "execution_count": 5,
   "metadata": {},
   "outputs": [
    {
     "name": "stdout",
     "output_type": "stream",
     "text": [
      " Num of tuples : 95575\n"
     ]
    },
    {
     "data": {
      "text/plain": [
       "[(\"''\", '.'),\n",
       " ('He', 'PRON'),\n",
       " ('declined', 'VERB'),\n",
       " ('*-2', 'X'),\n",
       " ('to', 'PRT'),\n",
       " ('say', 'VERB'),\n",
       " (',', '.'),\n",
       " ('however', 'ADV'),\n",
       " (',', '.'),\n",
       " ('how', 'ADV')]"
      ]
     },
     "execution_count": 5,
     "metadata": {},
     "output_type": "execute_result"
    }
   ],
   "source": [
    "# Get list of tagged tuples\n",
    "\n",
    "train_tagged_tup = [tup for sent in train_set for tup in sent]\n",
    "print(f\" Num of tuples : {len(train_tagged_tup)}\")\n",
    "train_tagged_tup[:10]"
   ]
  },
  {
   "cell_type": "code",
   "execution_count": 6,
   "metadata": {},
   "outputs": [
    {
     "data": {
      "text/plain": [
       "[\"''\", 'He', 'declined', '*-2', 'to', 'say', ',', 'however', ',', 'how']"
      ]
     },
     "execution_count": 6,
     "metadata": {},
     "output_type": "execute_result"
    }
   ],
   "source": [
    "# Get a list of tagged words\n",
    "\n",
    "train_tagged_words = [pair[0] for pair in train_tagged_tup]\n",
    "train_tagged_words[:10]"
   ]
  },
  {
   "cell_type": "code",
   "execution_count": 7,
   "metadata": {},
   "outputs": [
    {
     "data": {
      "text/plain": [
       "['.', 'PRON', 'VERB', 'X', 'PRT', 'VERB', '.', 'ADV', '.', 'ADV']"
      ]
     },
     "execution_count": 7,
     "metadata": {},
     "output_type": "execute_result"
    }
   ],
   "source": [
    "# Get a list of tags \n",
    "\n",
    "train_tagged_tags = [pair[1] for pair in train_tagged_tup]\n",
    "train_tagged_tags[:10]"
   ]
  },
  {
   "cell_type": "code",
   "execution_count": 8,
   "metadata": {},
   "outputs": [
    {
     "name": "stdout",
     "output_type": "stream",
     "text": [
      "Vocabulary_length : 12086 \n",
      "Tagset_length : 12\n",
      "\n",
      "\n",
      "Available tags : {'ADJ', 'ADV', 'NUM', 'PRT', 'ADP', 'X', 'VERB', 'CONJ', '.', 'NOUN', 'PRON', 'DET'}\n"
     ]
    }
   ],
   "source": [
    "## Building the vocabulary and the POS tag sets (haivng unique occurences)\n",
    "\n",
    "train_vocab = set(train_tagged_words)\n",
    "train_tags = set(train_tagged_tags)\n",
    "\n",
    "print(f\"Vocabulary_length : {len(train_vocab)} \\nTagset_length : {len(train_tags)}\")\n",
    "print(\"\\n\")\n",
    "print(f\"Available tags : {train_tags}\")"
   ]
  },
  {
   "cell_type": "markdown",
   "metadata": {},
   "source": [
    "### Emission and Transition probabilities"
   ]
  },
  {
   "cell_type": "code",
   "execution_count": 9,
   "metadata": {},
   "outputs": [],
   "source": [
    "len_tags = len(train_tags)\n",
    "len_vocab = len(train_vocab)\n",
    "\n",
    "word_given_tag = np.zeros((len_tags, len_vocab))"
   ]
  },
  {
   "cell_type": "code",
   "execution_count": 10,
   "metadata": {},
   "outputs": [],
   "source": [
    "## computing emission probability (Word given tag = P(word | tag))\n",
    "\n",
    "def word_given_tag(word, tag, train_bag = train_tagged_tup):\n",
    "    tag_list = [pair for pair in train_bag if pair[1]==tag]\n",
    "    count_tag = len(tag_list)\n",
    "    w_given_tag_list = [pair[0] for pair in tag_list if pair[0]==word]\n",
    "    count_w_given_tag = len(w_given_tag_list)\n",
    "    \n",
    "    return (count_w_given_tag, count_tag)"
   ]
  },
  {
   "cell_type": "code",
   "execution_count": 11,
   "metadata": {},
   "outputs": [],
   "source": [
    "# computing Transition Probability (tag2(t2) given tag1 (t1) = P(tag2 | tag1))\n",
    "\n",
    "def t2_given_t1(t2, t1, train_bag = train_tagged_tup):\n",
    "    tags = [pair[1] for pair in train_bag]\n",
    "    count_t1 = len([t for t in tags if t==t1])\n",
    "    count_t2_t1 = 0\n",
    "    for index in range(len(tags)-1):\n",
    "        if tags[index]==t1 and tags[index+1] == t2:\n",
    "            count_t2_t1 += 1\n",
    "    return (count_t2_t1, count_t1)"
   ]
  },
  {
   "cell_type": "code",
   "execution_count": 12,
   "metadata": {},
   "outputs": [
    {
     "data": {
      "text/plain": [
       "array([[6.60268068e-02, 4.46797954e-03, 2.01886483e-02, 1.10872081e-02,\n",
       "        7.92652667e-02, 2.11815331e-02, 1.22455731e-02, 1.77064370e-02,\n",
       "        6.58613294e-02, 6.96342885e-01, 6.61922910e-04, 4.96442150e-03],\n",
       "       [1.30029932e-01, 7.84835368e-02, 3.12603936e-02, 1.42999664e-02,\n",
       "        1.19055539e-01, 2.36115735e-02, 3.44196886e-01, 6.65114727e-03,\n",
       "        1.36681080e-01, 3.19255069e-02, 1.52976392e-02, 6.85068145e-02],\n",
       "       [3.17225009e-02, 2.37177592e-03, 1.85591459e-01, 2.66824793e-02,\n",
       "        3.46872211e-02, 2.13163361e-01, 1.89742073e-02, 1.27482954e-02,\n",
       "        1.17402904e-01, 3.51912230e-01, 1.48235995e-03, 3.26119177e-03],\n",
       "       [8.32510665e-02, 1.05297798e-02, 5.59394546e-02, 1.97433378e-03,\n",
       "        2.10595597e-02, 1.38203353e-02, 4.02435005e-01, 2.30338937e-03,\n",
       "        4.27772291e-02, 2.49095097e-01, 1.74399465e-02, 9.93747935e-02],\n",
       "       [1.05122447e-01, 1.39022563e-02, 6.14907481e-02, 1.39022560e-03,\n",
       "        1.75382309e-02, 3.43278795e-02, 8.23441334e-03, 9.62463906e-04,\n",
       "        4.02096026e-02, 3.23280931e-01, 6.84418753e-02, 3.25098932e-01],\n",
       "       [1.67544279e-02, 2.61688214e-02, 2.87218764e-03, 1.83660448e-01,\n",
       "        1.44726351e-01, 7.53151402e-02, 2.03287065e-01, 1.05313547e-02,\n",
       "        1.63395569e-01, 6.23902977e-02, 5.56885265e-02, 5.52098304e-02],\n",
       "       [6.56758249e-02, 8.22504088e-02, 2.27219667e-02, 3.12816128e-02,\n",
       "        8.99540856e-02, 2.17103735e-01, 1.67691231e-01, 5.44704683e-03,\n",
       "        3.54836211e-02, 1.12131350e-01, 3.57170664e-02, 1.34542063e-01],\n",
       "       [1.19777158e-01, 5.57103083e-02, 3.99257205e-02, 5.10677788e-03,\n",
       "        5.19962870e-02, 8.82079825e-03, 1.59702882e-01, 0.00000000e+00,\n",
       "        3.52831930e-02, 3.47725153e-01, 5.89600727e-02, 1.16991647e-01],\n",
       "       [4.42953035e-02, 5.27964197e-02, 8.21476504e-02, 2.41610734e-03,\n",
       "        9.09172297e-02, 2.68456377e-02, 8.89485478e-02, 5.78076057e-02,\n",
       "        9.38702449e-02, 2.21476510e-01, 6.54138699e-02, 1.72975391e-01],\n",
       "       [1.22444518e-02, 1.65081453e-02, 9.72996652e-03, 4.35844176e-02,\n",
       "        1.76451296e-01, 2.87525970e-02, 1.46313906e-01, 4.26004902e-02,\n",
       "        2.40552455e-01, 2.65442222e-01, 4.73743677e-03, 1.30826132e-02],\n",
       "       [7.36598521e-02, 3.27805616e-02, 7.32742017e-03, 1.19552640e-02,\n",
       "        2.27535665e-02, 9.33281928e-02, 4.86309290e-01, 5.01349801e-03,\n",
       "        4.12649438e-02, 2.08252996e-01, 7.71307386e-03, 9.64134187e-03],\n",
       "       [2.02994809e-01, 1.26796281e-02, 2.24610548e-02, 2.41516726e-04,\n",
       "        9.29839350e-03, 4.51636277e-02, 4.04540524e-02, 4.83033451e-04,\n",
       "        1.81137547e-02, 6.38811767e-01, 3.50199244e-03, 5.79640130e-03]],\n",
       "      dtype=float32)"
      ]
     },
     "execution_count": 12,
     "metadata": {},
     "output_type": "execute_result"
    }
   ],
   "source": [
    "tag_toTag_matrix = np.zeros((len_tags, len_tags), dtype='float32')\n",
    "for i, t1 in enumerate(list(train_tags)):\n",
    "    for j, t2 in enumerate(list(train_tags)): \n",
    "        tag_toTag_matrix[i, j] = t2_given_t1(t2, t1)[0]/t2_given_t1(t2, t1)[1]\n",
    "\n",
    "tag_toTag_matrix"
   ]
  },
  {
   "cell_type": "code",
   "execution_count": 13,
   "metadata": {},
   "outputs": [
    {
     "data": {
      "text/html": [
       "<div>\n",
       "<style scoped>\n",
       "    .dataframe tbody tr th:only-of-type {\n",
       "        vertical-align: middle;\n",
       "    }\n",
       "\n",
       "    .dataframe tbody tr th {\n",
       "        vertical-align: top;\n",
       "    }\n",
       "\n",
       "    .dataframe thead th {\n",
       "        text-align: right;\n",
       "    }\n",
       "</style>\n",
       "<table border=\"1\" class=\"dataframe\">\n",
       "  <thead>\n",
       "    <tr style=\"text-align: right;\">\n",
       "      <th></th>\n",
       "      <th>ADJ</th>\n",
       "      <th>ADV</th>\n",
       "      <th>NUM</th>\n",
       "      <th>PRT</th>\n",
       "      <th>ADP</th>\n",
       "      <th>X</th>\n",
       "      <th>VERB</th>\n",
       "      <th>CONJ</th>\n",
       "      <th>.</th>\n",
       "      <th>NOUN</th>\n",
       "      <th>PRON</th>\n",
       "      <th>DET</th>\n",
       "    </tr>\n",
       "  </thead>\n",
       "  <tbody>\n",
       "    <tr>\n",
       "      <th>ADJ</th>\n",
       "      <td>0.066027</td>\n",
       "      <td>0.004468</td>\n",
       "      <td>0.020189</td>\n",
       "      <td>0.011087</td>\n",
       "      <td>0.079265</td>\n",
       "      <td>0.021182</td>\n",
       "      <td>0.012246</td>\n",
       "      <td>0.017706</td>\n",
       "      <td>0.065861</td>\n",
       "      <td>0.696343</td>\n",
       "      <td>0.000662</td>\n",
       "      <td>0.004964</td>\n",
       "    </tr>\n",
       "    <tr>\n",
       "      <th>ADV</th>\n",
       "      <td>0.130030</td>\n",
       "      <td>0.078484</td>\n",
       "      <td>0.031260</td>\n",
       "      <td>0.014300</td>\n",
       "      <td>0.119056</td>\n",
       "      <td>0.023612</td>\n",
       "      <td>0.344197</td>\n",
       "      <td>0.006651</td>\n",
       "      <td>0.136681</td>\n",
       "      <td>0.031926</td>\n",
       "      <td>0.015298</td>\n",
       "      <td>0.068507</td>\n",
       "    </tr>\n",
       "    <tr>\n",
       "      <th>NUM</th>\n",
       "      <td>0.031723</td>\n",
       "      <td>0.002372</td>\n",
       "      <td>0.185591</td>\n",
       "      <td>0.026682</td>\n",
       "      <td>0.034687</td>\n",
       "      <td>0.213163</td>\n",
       "      <td>0.018974</td>\n",
       "      <td>0.012748</td>\n",
       "      <td>0.117403</td>\n",
       "      <td>0.351912</td>\n",
       "      <td>0.001482</td>\n",
       "      <td>0.003261</td>\n",
       "    </tr>\n",
       "    <tr>\n",
       "      <th>PRT</th>\n",
       "      <td>0.083251</td>\n",
       "      <td>0.010530</td>\n",
       "      <td>0.055939</td>\n",
       "      <td>0.001974</td>\n",
       "      <td>0.021060</td>\n",
       "      <td>0.013820</td>\n",
       "      <td>0.402435</td>\n",
       "      <td>0.002303</td>\n",
       "      <td>0.042777</td>\n",
       "      <td>0.249095</td>\n",
       "      <td>0.017440</td>\n",
       "      <td>0.099375</td>\n",
       "    </tr>\n",
       "    <tr>\n",
       "      <th>ADP</th>\n",
       "      <td>0.105122</td>\n",
       "      <td>0.013902</td>\n",
       "      <td>0.061491</td>\n",
       "      <td>0.001390</td>\n",
       "      <td>0.017538</td>\n",
       "      <td>0.034328</td>\n",
       "      <td>0.008234</td>\n",
       "      <td>0.000962</td>\n",
       "      <td>0.040210</td>\n",
       "      <td>0.323281</td>\n",
       "      <td>0.068442</td>\n",
       "      <td>0.325099</td>\n",
       "    </tr>\n",
       "    <tr>\n",
       "      <th>X</th>\n",
       "      <td>0.016754</td>\n",
       "      <td>0.026169</td>\n",
       "      <td>0.002872</td>\n",
       "      <td>0.183660</td>\n",
       "      <td>0.144726</td>\n",
       "      <td>0.075315</td>\n",
       "      <td>0.203287</td>\n",
       "      <td>0.010531</td>\n",
       "      <td>0.163396</td>\n",
       "      <td>0.062390</td>\n",
       "      <td>0.055689</td>\n",
       "      <td>0.055210</td>\n",
       "    </tr>\n",
       "    <tr>\n",
       "      <th>VERB</th>\n",
       "      <td>0.065676</td>\n",
       "      <td>0.082250</td>\n",
       "      <td>0.022722</td>\n",
       "      <td>0.031282</td>\n",
       "      <td>0.089954</td>\n",
       "      <td>0.217104</td>\n",
       "      <td>0.167691</td>\n",
       "      <td>0.005447</td>\n",
       "      <td>0.035484</td>\n",
       "      <td>0.112131</td>\n",
       "      <td>0.035717</td>\n",
       "      <td>0.134542</td>\n",
       "    </tr>\n",
       "    <tr>\n",
       "      <th>CONJ</th>\n",
       "      <td>0.119777</td>\n",
       "      <td>0.055710</td>\n",
       "      <td>0.039926</td>\n",
       "      <td>0.005107</td>\n",
       "      <td>0.051996</td>\n",
       "      <td>0.008821</td>\n",
       "      <td>0.159703</td>\n",
       "      <td>0.000000</td>\n",
       "      <td>0.035283</td>\n",
       "      <td>0.347725</td>\n",
       "      <td>0.058960</td>\n",
       "      <td>0.116992</td>\n",
       "    </tr>\n",
       "    <tr>\n",
       "      <th>.</th>\n",
       "      <td>0.044295</td>\n",
       "      <td>0.052796</td>\n",
       "      <td>0.082148</td>\n",
       "      <td>0.002416</td>\n",
       "      <td>0.090917</td>\n",
       "      <td>0.026846</td>\n",
       "      <td>0.088949</td>\n",
       "      <td>0.057808</td>\n",
       "      <td>0.093870</td>\n",
       "      <td>0.221477</td>\n",
       "      <td>0.065414</td>\n",
       "      <td>0.172975</td>\n",
       "    </tr>\n",
       "    <tr>\n",
       "      <th>NOUN</th>\n",
       "      <td>0.012244</td>\n",
       "      <td>0.016508</td>\n",
       "      <td>0.009730</td>\n",
       "      <td>0.043584</td>\n",
       "      <td>0.176451</td>\n",
       "      <td>0.028753</td>\n",
       "      <td>0.146314</td>\n",
       "      <td>0.042600</td>\n",
       "      <td>0.240552</td>\n",
       "      <td>0.265442</td>\n",
       "      <td>0.004737</td>\n",
       "      <td>0.013083</td>\n",
       "    </tr>\n",
       "    <tr>\n",
       "      <th>PRON</th>\n",
       "      <td>0.073660</td>\n",
       "      <td>0.032781</td>\n",
       "      <td>0.007327</td>\n",
       "      <td>0.011955</td>\n",
       "      <td>0.022754</td>\n",
       "      <td>0.093328</td>\n",
       "      <td>0.486309</td>\n",
       "      <td>0.005013</td>\n",
       "      <td>0.041265</td>\n",
       "      <td>0.208253</td>\n",
       "      <td>0.007713</td>\n",
       "      <td>0.009641</td>\n",
       "    </tr>\n",
       "    <tr>\n",
       "      <th>DET</th>\n",
       "      <td>0.202995</td>\n",
       "      <td>0.012680</td>\n",
       "      <td>0.022461</td>\n",
       "      <td>0.000242</td>\n",
       "      <td>0.009298</td>\n",
       "      <td>0.045164</td>\n",
       "      <td>0.040454</td>\n",
       "      <td>0.000483</td>\n",
       "      <td>0.018114</td>\n",
       "      <td>0.638812</td>\n",
       "      <td>0.003502</td>\n",
       "      <td>0.005796</td>\n",
       "    </tr>\n",
       "  </tbody>\n",
       "</table>\n",
       "</div>"
      ],
      "text/plain": [
       "           ADJ       ADV       NUM       PRT       ADP         X      VERB  \\\n",
       "ADJ   0.066027  0.004468  0.020189  0.011087  0.079265  0.021182  0.012246   \n",
       "ADV   0.130030  0.078484  0.031260  0.014300  0.119056  0.023612  0.344197   \n",
       "NUM   0.031723  0.002372  0.185591  0.026682  0.034687  0.213163  0.018974   \n",
       "PRT   0.083251  0.010530  0.055939  0.001974  0.021060  0.013820  0.402435   \n",
       "ADP   0.105122  0.013902  0.061491  0.001390  0.017538  0.034328  0.008234   \n",
       "X     0.016754  0.026169  0.002872  0.183660  0.144726  0.075315  0.203287   \n",
       "VERB  0.065676  0.082250  0.022722  0.031282  0.089954  0.217104  0.167691   \n",
       "CONJ  0.119777  0.055710  0.039926  0.005107  0.051996  0.008821  0.159703   \n",
       ".     0.044295  0.052796  0.082148  0.002416  0.090917  0.026846  0.088949   \n",
       "NOUN  0.012244  0.016508  0.009730  0.043584  0.176451  0.028753  0.146314   \n",
       "PRON  0.073660  0.032781  0.007327  0.011955  0.022754  0.093328  0.486309   \n",
       "DET   0.202995  0.012680  0.022461  0.000242  0.009298  0.045164  0.040454   \n",
       "\n",
       "          CONJ         .      NOUN      PRON       DET  \n",
       "ADJ   0.017706  0.065861  0.696343  0.000662  0.004964  \n",
       "ADV   0.006651  0.136681  0.031926  0.015298  0.068507  \n",
       "NUM   0.012748  0.117403  0.351912  0.001482  0.003261  \n",
       "PRT   0.002303  0.042777  0.249095  0.017440  0.099375  \n",
       "ADP   0.000962  0.040210  0.323281  0.068442  0.325099  \n",
       "X     0.010531  0.163396  0.062390  0.055689  0.055210  \n",
       "VERB  0.005447  0.035484  0.112131  0.035717  0.134542  \n",
       "CONJ  0.000000  0.035283  0.347725  0.058960  0.116992  \n",
       ".     0.057808  0.093870  0.221477  0.065414  0.172975  \n",
       "NOUN  0.042600  0.240552  0.265442  0.004737  0.013083  \n",
       "PRON  0.005013  0.041265  0.208253  0.007713  0.009641  \n",
       "DET   0.000483  0.018114  0.638812  0.003502  0.005796  "
      ]
     },
     "execution_count": 13,
     "metadata": {},
     "output_type": "execute_result"
    }
   ],
   "source": [
    "tags_df = pd.DataFrame(tag_toTag_matrix, columns = list(train_tags),index = list(train_tags))\n",
    "\n",
    "tags_df"
   ]
  },
  {
   "cell_type": "markdown",
   "metadata": {},
   "source": [
    "### Exploring the Data"
   ]
  },
  {
   "cell_type": "code",
   "execution_count": 14,
   "metadata": {},
   "outputs": [
    {
     "data": {
      "image/png": "[encoded data removed]",
      "text/plain": [
       "<Figure size 1008x576 with 2 Axes>"
      ]
     },
     "metadata": {
      "needs_background": "light"
     },
     "output_type": "display_data"
    }
   ],
   "source": [
    "plt.figure(figsize=(14, 8))\n",
    "sns.heatmap(tags_df, annot = True)\n",
    "plt.show()"
   ]
  },
  {
   "cell_type": "code",
   "execution_count": 15,
   "metadata": {},
   "outputs": [
    {
     "data": {
      "image/png": "[encoded data removed]",
      "text/plain": [
       "<Figure size 1008x576 with 2 Axes>"
      ]
     },
     "metadata": {
      "needs_background": "light"
     },
     "output_type": "display_data"
    }
   ],
   "source": [
    "### To see the behaviour of most frequent tags, let us set a threshold to the P(tag2 | tag1) as 0.5\n",
    "\n",
    "tags_frequent = tags_df[tags_df>0.5]\n",
    "plt.figure(figsize=(14, 8))\n",
    "sns.heatmap(tags_frequent, annot = True)\n",
    "plt.show()"
   ]
  },
  {
   "cell_type": "markdown",
   "metadata": {},
   "source": [
    "#### Observation\n",
    "- This shows that NOUN is the most frequent tag\n",
    "- Also that is the same case whether it is being followed by an ADJ or by a DET"
   ]
  },
  {
   "cell_type": "markdown",
   "metadata": {},
   "source": [
    "### Build the vanilla Viterbi based POS tagger"
   ]
  },
  {
   "cell_type": "code",
   "execution_count": 16,
   "metadata": {},
   "outputs": [],
   "source": [
    "def vanilla_viterbi(words, train_bag = train_tagged_tup):\n",
    "    state = []\n",
    "    T = list(set([pair[1] for pair in train_bag]))\n",
    "    \n",
    "    for key, word in enumerate(words):\n",
    "        #initialise list of probability column for a given observation\n",
    "        p = [] \n",
    "        for tag in T:\n",
    "            if key == 0:\n",
    "                trans_p = tags_df.loc['.', tag]\n",
    "            else:\n",
    "                trans_p = tags_df.loc[state[-1], tag]\n",
    "                \n",
    "            # compute emission and state probabilities\n",
    "            emis_p = word_given_tag(words[key], tag)[0]/word_given_tag(words[key], tag)[1]\n",
    "            state_probability = emis_p * trans_p    \n",
    "            p.append(state_probability)\n",
    "            \n",
    "        pmax = max(p)\n",
    "        # getting state for which probability is maximum\n",
    "        state_max = T[p.index(pmax)] \n",
    "        state.append(state_max)\n",
    "    return list(zip(words, state))"
   ]
  },
  {
   "cell_type": "code",
   "execution_count": 17,
   "metadata": {},
   "outputs": [],
   "source": [
    "random.seed(42)\n",
    "\n",
    "# list of tagged tuples\n",
    "test_run_base = [tup for sent in test_set for tup in sent]\n",
    "\n",
    "# list of untagged tuples (Without tags)\n",
    "test_untagged_words = [tup[0] for sent in test_set for tup in sent]\n"
   ]
  },
  {
   "cell_type": "code",
   "execution_count": 18,
   "metadata": {},
   "outputs": [
    {
     "ename": "KeyboardInterrupt",
     "evalue": "",
     "output_type": "error",
     "traceback": [
      "\u001b[1;31m---------------------------------------------------------------------------\u001b[0m",
      "\u001b[1;31mKeyboardInterrupt\u001b[0m                         Traceback (most recent call last)",
      "\u001b[1;32m<ipython-input-18-8427e8d296d9>\u001b[0m in \u001b[0;36m<module>\u001b[1;34m\u001b[0m\n\u001b[0;32m      1\u001b[0m \u001b[1;31m### Tagging the test words (Untagged tuples) with the help of vanilla viterbi algorithm\u001b[0m\u001b[1;33m\u001b[0m\u001b[1;33m\u001b[0m\u001b[0m\n\u001b[0;32m      2\u001b[0m \u001b[1;33m\u001b[0m\u001b[0m\n\u001b[1;32m----> 3\u001b[1;33m \u001b[0mtagged_seq\u001b[0m \u001b[1;33m=\u001b[0m \u001b[0mvanilla_viterbi\u001b[0m\u001b[1;33m(\u001b[0m\u001b[0mtest_untagged_words\u001b[0m\u001b[1;33m)\u001b[0m\u001b[1;33m\u001b[0m\u001b[0m\n\u001b[0m",
      "\u001b[1;32m<ipython-input-16-febc7de58605>\u001b[0m in \u001b[0;36mvanilla_viterbi\u001b[1;34m(words, train_bag)\u001b[0m\n\u001b[0;32m     13\u001b[0m \u001b[1;33m\u001b[0m\u001b[0m\n\u001b[0;32m     14\u001b[0m             \u001b[1;31m# compute emission and state probabilities\u001b[0m\u001b[1;33m\u001b[0m\u001b[1;33m\u001b[0m\u001b[0m\n\u001b[1;32m---> 15\u001b[1;33m             \u001b[0memis_p\u001b[0m \u001b[1;33m=\u001b[0m \u001b[0mword_given_tag\u001b[0m\u001b[1;33m(\u001b[0m\u001b[0mwords\u001b[0m\u001b[1;33m[\u001b[0m\u001b[0mkey\u001b[0m\u001b[1;33m]\u001b[0m\u001b[1;33m,\u001b[0m \u001b[0mtag\u001b[0m\u001b[1;33m)\u001b[0m\u001b[1;33m[\u001b[0m\u001b[1;36m0\u001b[0m\u001b[1;33m]\u001b[0m\u001b[1;33m/\u001b[0m\u001b[0mword_given_tag\u001b[0m\u001b[1;33m(\u001b[0m\u001b[0mwords\u001b[0m\u001b[1;33m[\u001b[0m\u001b[0mkey\u001b[0m\u001b[1;33m]\u001b[0m\u001b[1;33m,\u001b[0m \u001b[0mtag\u001b[0m\u001b[1;33m)\u001b[0m\u001b[1;33m[\u001b[0m\u001b[1;36m1\u001b[0m\u001b[1;33m]\u001b[0m\u001b[1;33m\u001b[0m\u001b[0m\n\u001b[0m\u001b[0;32m     16\u001b[0m             \u001b[0mstate_probability\u001b[0m \u001b[1;33m=\u001b[0m \u001b[0memis_p\u001b[0m \u001b[1;33m*\u001b[0m \u001b[0mtrans_p\u001b[0m\u001b[1;33m\u001b[0m\u001b[0m\n\u001b[0;32m     17\u001b[0m             \u001b[0mp\u001b[0m\u001b[1;33m.\u001b[0m\u001b[0mappend\u001b[0m\u001b[1;33m(\u001b[0m\u001b[0mstate_probability\u001b[0m\u001b[1;33m)\u001b[0m\u001b[1;33m\u001b[0m\u001b[0m\n",
      "\u001b[1;32m<ipython-input-10-de118e9a651c>\u001b[0m in \u001b[0;36mword_given_tag\u001b[1;34m(word, tag, train_bag)\u001b[0m\n\u001b[0;32m      4\u001b[0m     \u001b[0mtag_list\u001b[0m \u001b[1;33m=\u001b[0m \u001b[1;33m[\u001b[0m\u001b[0mpair\u001b[0m \u001b[1;32mfor\u001b[0m \u001b[0mpair\u001b[0m \u001b[1;32min\u001b[0m \u001b[0mtrain_bag\u001b[0m \u001b[1;32mif\u001b[0m \u001b[0mpair\u001b[0m\u001b[1;33m[\u001b[0m\u001b[1;36m1\u001b[0m\u001b[1;33m]\u001b[0m\u001b[1;33m==\u001b[0m\u001b[0mtag\u001b[0m\u001b[1;33m]\u001b[0m\u001b[1;33m\u001b[0m\u001b[0m\n\u001b[0;32m      5\u001b[0m     \u001b[0mcount_tag\u001b[0m \u001b[1;33m=\u001b[0m \u001b[0mlen\u001b[0m\u001b[1;33m(\u001b[0m\u001b[0mtag_list\u001b[0m\u001b[1;33m)\u001b[0m\u001b[1;33m\u001b[0m\u001b[0m\n\u001b[1;32m----> 6\u001b[1;33m     \u001b[0mw_given_tag_list\u001b[0m \u001b[1;33m=\u001b[0m \u001b[1;33m[\u001b[0m\u001b[0mpair\u001b[0m\u001b[1;33m[\u001b[0m\u001b[1;36m0\u001b[0m\u001b[1;33m]\u001b[0m \u001b[1;32mfor\u001b[0m \u001b[0mpair\u001b[0m \u001b[1;32min\u001b[0m \u001b[0mtag_list\u001b[0m \u001b[1;32mif\u001b[0m \u001b[0mpair\u001b[0m\u001b[1;33m[\u001b[0m\u001b[1;36m0\u001b[0m\u001b[1;33m]\u001b[0m\u001b[1;33m==\u001b[0m\u001b[0mword\u001b[0m\u001b[1;33m]\u001b[0m\u001b[1;33m\u001b[0m\u001b[0m\n\u001b[0m\u001b[0;32m      7\u001b[0m     \u001b[0mcount_w_given_tag\u001b[0m \u001b[1;33m=\u001b[0m \u001b[0mlen\u001b[0m\u001b[1;33m(\u001b[0m\u001b[0mw_given_tag_list\u001b[0m\u001b[1;33m)\u001b[0m\u001b[1;33m\u001b[0m\u001b[0m\n\u001b[0;32m      8\u001b[0m \u001b[1;33m\u001b[0m\u001b[0m\n",
      "\u001b[1;32m<ipython-input-10-de118e9a651c>\u001b[0m in \u001b[0;36m<listcomp>\u001b[1;34m(.0)\u001b[0m\n\u001b[0;32m      4\u001b[0m     \u001b[0mtag_list\u001b[0m \u001b[1;33m=\u001b[0m \u001b[1;33m[\u001b[0m\u001b[0mpair\u001b[0m \u001b[1;32mfor\u001b[0m \u001b[0mpair\u001b[0m \u001b[1;32min\u001b[0m \u001b[0mtrain_bag\u001b[0m \u001b[1;32mif\u001b[0m \u001b[0mpair\u001b[0m\u001b[1;33m[\u001b[0m\u001b[1;36m1\u001b[0m\u001b[1;33m]\u001b[0m\u001b[1;33m==\u001b[0m\u001b[0mtag\u001b[0m\u001b[1;33m]\u001b[0m\u001b[1;33m\u001b[0m\u001b[0m\n\u001b[0;32m      5\u001b[0m     \u001b[0mcount_tag\u001b[0m \u001b[1;33m=\u001b[0m \u001b[0mlen\u001b[0m\u001b[1;33m(\u001b[0m\u001b[0mtag_list\u001b[0m\u001b[1;33m)\u001b[0m\u001b[1;33m\u001b[0m\u001b[0m\n\u001b[1;32m----> 6\u001b[1;33m     \u001b[0mw_given_tag_list\u001b[0m \u001b[1;33m=\u001b[0m \u001b[1;33m[\u001b[0m\u001b[0mpair\u001b[0m\u001b[1;33m[\u001b[0m\u001b[1;36m0\u001b[0m\u001b[1;33m]\u001b[0m \u001b[1;32mfor\u001b[0m \u001b[0mpair\u001b[0m \u001b[1;32min\u001b[0m \u001b[0mtag_list\u001b[0m \u001b[1;32mif\u001b[0m \u001b[0mpair\u001b[0m\u001b[1;33m[\u001b[0m\u001b[1;36m0\u001b[0m\u001b[1;33m]\u001b[0m\u001b[1;33m==\u001b[0m\u001b[0mword\u001b[0m\u001b[1;33m]\u001b[0m\u001b[1;33m\u001b[0m\u001b[0m\n\u001b[0m\u001b[0;32m      7\u001b[0m     \u001b[0mcount_w_given_tag\u001b[0m \u001b[1;33m=\u001b[0m \u001b[0mlen\u001b[0m\u001b[1;33m(\u001b[0m\u001b[0mw_given_tag_list\u001b[0m\u001b[1;33m)\u001b[0m\u001b[1;33m\u001b[0m\u001b[0m\n\u001b[0;32m      8\u001b[0m \u001b[1;33m\u001b[0m\u001b[0m\n",
      "\u001b[1;31mKeyboardInterrupt\u001b[0m: "
     ]
    }
   ],
   "source": [
    "### Tagging the test words (Untagged tuples) with the help of vanilla viterbi algorithm\n",
    "\n",
    "tagged_seq = vanilla_viterbi(test_untagged_words)"
   ]
  },
  {
   "cell_type": "code",
   "execution_count": null,
   "metadata": {},
   "outputs": [],
   "source": []
  },
  {
   "cell_type": "code",
   "execution_count": null,
   "metadata": {},
   "outputs": [],
   "source": []
  },
  {
   "cell_type": "code",
   "execution_count": null,
   "metadata": {},
   "outputs": [],
   "source": []
  },
  {
   "cell_type": "code",
   "execution_count": null,
   "metadata": {},
   "outputs": [],
   "source": []
  },
  {
   "cell_type": "markdown",
   "metadata": {},
   "source": [
    "### Solve the problem of unknown words"
   ]
  },
  {
   "cell_type": "code",
   "execution_count": null,
   "metadata": {},
   "outputs": [],
   "source": []
  },
  {
   "cell_type": "code",
   "execution_count": null,
   "metadata": {},
   "outputs": [],
   "source": []
  },
  {
   "cell_type": "markdown",
   "metadata": {},
   "source": [
    "#### Evaluating tagging accuracy"
   ]
  },
  {
   "cell_type": "code",
   "execution_count": null,
   "metadata": {},
   "outputs": [],
   "source": []
  },
  {
   "cell_type": "code",
   "execution_count": null,
   "metadata": {},
   "outputs": [],
   "source": []
  },
  {
   "cell_type": "markdown",
   "metadata": {},
   "source": [
    "### Compare the tagging accuracies of the modifications with the vanilla Viterbi algorithm"
   ]
  },
  {
   "cell_type": "code",
   "execution_count": null,
   "metadata": {},
   "outputs": [],
   "source": []
  },
  {
   "cell_type": "code",
   "execution_count": null,
   "metadata": {},
   "outputs": [],
   "source": []
  },
  {
   "cell_type": "code",
   "execution_count": null,
   "metadata": {},
   "outputs": [],
   "source": []
  },
  {
   "cell_type": "markdown",
   "metadata": {},
   "source": [
    "### List down cases which were incorrectly tagged by original POS tagger and got corrected by your modifications"
   ]
  },
  {
   "cell_type": "code",
   "execution_count": null,
   "metadata": {},
   "outputs": [],
   "source": []
  },
  {
   "cell_type": "code",
   "execution_count": null,
   "metadata": {},
   "outputs": [],
   "source": []
  },
  {
   "cell_type": "code",
   "execution_count": null,
   "metadata": {},
   "outputs": [],
   "source": []
  }
 ],
 "metadata": {
  "kernelspec": {
   "display_name": "Python 3.6.5 64-bit ('py36': conda)",
   "language": "python",
   "name": "python36564bitpy36conda14017088bbd54c498eb74f6bae29f993"
  },
  "language_info": {
   "codemirror_mode": {
    "name": "ipython",
    "version": 3
   },
   "file_extension": ".py",
   "mimetype": "text/x-python",
   "name": "python",
   "nbconvert_exporter": "python",
   "pygments_lexer": "ipython3",
   "version": "3.6.5"
  }
 },
 "nbformat": 4,
 "nbformat_minor": 2
}
